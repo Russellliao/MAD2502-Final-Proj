{
 "cells": [
  {
   "metadata": {},
   "cell_type": "markdown",
   "source": "# MAD2502 Final Project: Audio Editor\n",
   "id": "43c338987619fc3c"
  },
  {
   "metadata": {},
   "cell_type": "markdown",
   "source": [
    "The application is used to convert an audio file into frequencies and do further interpretations using numpy and matplotlib. There will be 5 functions:\n",
    "\n",
    "\tFourier transformation: convert audio to frequency (this one needs some research, cite outside soures)\n",
    "\n",
    "\tPitch detection: convert frequencies into musical notes\n",
    "\n",
    "\tStereo: check if there is stereo (if left and right channel’s frequencies are the same)\n",
    "\n",
    "\tHigh/low filter: cut off some sounds (signals) above or below a range\n",
    "\n",
    "\tData visualization: make a plot of the frequencies\n"
   ],
   "id": "9ab9d2d0d08e502d"
  },
  {
   "metadata": {
    "ExecuteTime": {
     "end_time": "2025-04-17T02:05:06.039722Z",
     "start_time": "2025-04-17T02:05:06.032633Z"
    }
   },
   "cell_type": "code",
   "source": [
    "import numpy as np\n",
    "import matplotlib.pyplot as plt"
   ],
   "id": "747fd440e1b5d251",
   "outputs": [],
   "execution_count": 3
  },
  {
   "metadata": {},
   "cell_type": "code",
   "outputs": [],
   "execution_count": null,
   "source": [
    "#Fourier transformation\n",
    "#Look up how to import audio files"
   ],
   "id": "65a9e95be3f32ffd"
  },
  {
   "metadata": {},
   "cell_type": "code",
   "outputs": [],
   "execution_count": null,
   "source": [
    "#Pitch detection\n",
    "#Look up the frequency for each note\n",
    "def pitch_detection(freq):\n",
    "    \"Convert frequencies from Fourier transformation into notes\""
   ],
   "id": "14f727b9b7ce4261"
  },
  {
   "metadata": {
    "ExecuteTime": {
     "end_time": "2025-04-17T02:14:54.578416Z",
     "start_time": "2025-04-17T02:14:54.571962Z"
    }
   },
   "cell_type": "code",
   "source": [
    "#Stereo check\n",
    "def stereo(data):\n",
    "    \"Check if left and right channels data are different; if so, split them for further analyses\""
   ],
   "id": "7d087503159084bf",
   "outputs": [],
   "execution_count": 4
  },
  {
   "metadata": {},
   "cell_type": "code",
   "outputs": [],
   "execution_count": null,
   "source": [
    "#High Filter\n",
    "def high_filter(data,limit):\n",
    "    \"Delete the frequencies above a certain limit\"\n",
    "\n",
    "#Low Filter\n",
    "def low_filter(data,limit):\n",
    "    \"Delete the frequencies below a certain limit\""
   ],
   "id": "665b67010009661d"
  },
  {
   "metadata": {},
   "cell_type": "code",
   "outputs": [],
   "execution_count": null,
   "source": [
    "#Data visualization\n",
    "plt.show()"
   ],
   "id": "3c1c108292713792"
  }
 ],
 "metadata": {
  "kernelspec": {
   "display_name": "Python 3 (ipykernel)",
   "language": "python",
   "name": "python3"
  },
  "language_info": {
   "codemirror_mode": {
    "name": "ipython",
    "version": 3
   },
   "file_extension": ".py",
   "mimetype": "text/x-python",
   "name": "python",
   "nbconvert_exporter": "python",
   "pygments_lexer": "ipython3",
   "version": "3.12.3"
  }
 },
 "nbformat": 4,
 "nbformat_minor": 5
}
